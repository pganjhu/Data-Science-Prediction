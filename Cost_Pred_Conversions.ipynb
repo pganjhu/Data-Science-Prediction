{
  "nbformat": 4,
  "nbformat_minor": 0,
  "metadata": {
    "kernelspec": {
      "display_name": "Python 3",
      "language": "python",
      "name": "python3"
    },
    "language_info": {
      "codemirror_mode": {
        "name": "ipython",
        "version": 3
      },
      "file_extension": ".py",
      "mimetype": "text/x-python",
      "name": "python",
      "nbconvert_exporter": "python",
      "pygments_lexer": "ipython3",
      "version": "3.7.6"
    },
    "colab": {
      "name": "Cost_Pred_Conversions.ipynb",
      "provenance": [],
      "collapsed_sections": [
        "0lbcrlPdZoB2",
        "eMj9cs3QZoB8",
        "1aJ0sYI_ZoB-",
        "yzgWlGIFZoB_"
      ]
    }
  },
  "cells": [
    {
      "cell_type": "code",
      "metadata": {
        "id": "1EBNjO5aZoBp"
      },
      "source": [
        "import pandas as pd\n",
        "import numpy as np\n",
        "\n",
        "from scipy import stats"
      ],
      "execution_count": null,
      "outputs": []
    },
    {
      "cell_type": "code",
      "metadata": {
        "id": "-sf7UMGQZoBt"
      },
      "source": [
        "df =pd.read_excel(\"AggregateData_New.xlsx\",sheet_name='Data')"
      ],
      "execution_count": null,
      "outputs": []
    },
    {
      "cell_type": "code",
      "metadata": {
        "id": "nIT9EPEFZoBu",
        "outputId": "32fcd007-65c9-4170-8c9a-216d50d5b9c2"
      },
      "source": [
        "df.head()"
      ],
      "execution_count": null,
      "outputs": [
        {
          "data": {
            "text/html": [
              "<div>\n",
              "<style scoped>\n",
              "    .dataframe tbody tr th:only-of-type {\n",
              "        vertical-align: middle;\n",
              "    }\n",
              "\n",
              "    .dataframe tbody tr th {\n",
              "        vertical-align: top;\n",
              "    }\n",
              "\n",
              "    .dataframe thead th {\n",
              "        text-align: right;\n",
              "    }\n",
              "</style>\n",
              "<table border=\"1\" class=\"dataframe\">\n",
              "  <thead>\n",
              "    <tr style=\"text-align: right;\">\n",
              "      <th></th>\n",
              "      <th>dosage_form_code</th>\n",
              "      <th>material_name</th>\n",
              "      <th>cc2_name</th>\n",
              "      <th>cost</th>\n",
              "      <th>quantity</th>\n",
              "      <th>unit_cost</th>\n",
              "      <th>costing_lot_size</th>\n",
              "    </tr>\n",
              "  </thead>\n",
              "  <tbody>\n",
              "    <tr>\n",
              "      <th>0</th>\n",
              "      <td>FCT</td>\n",
              "      <td>ALENDRONATE SDZ 70MG 4FCT HK</td>\n",
              "      <td>Direct Labor</td>\n",
              "      <td>79.271875</td>\n",
              "      <td>2.414312</td>\n",
              "      <td>40.444658</td>\n",
              "      <td>3000</td>\n",
              "    </tr>\n",
              "    <tr>\n",
              "      <th>1</th>\n",
              "      <td>FCT</td>\n",
              "      <td>ALENDRONATE SDZ 70MG 4FCT HK</td>\n",
              "      <td>Oth Equ_Buildg Costs</td>\n",
              "      <td>48.414706</td>\n",
              "      <td>0.553471</td>\n",
              "      <td>60.906613</td>\n",
              "      <td>3000</td>\n",
              "    </tr>\n",
              "    <tr>\n",
              "      <th>2</th>\n",
              "      <td>FCT</td>\n",
              "      <td>ALENDRONATE SDZ 70MG 4FCT HK</td>\n",
              "      <td>Quality Assurance</td>\n",
              "      <td>531.230000</td>\n",
              "      <td>2.984000</td>\n",
              "      <td>178.026139</td>\n",
              "      <td>3000</td>\n",
              "    </tr>\n",
              "    <tr>\n",
              "      <th>3</th>\n",
              "      <td>FCT</td>\n",
              "      <td>ALENDRONATE SDZ 70MG 4FCT MY</td>\n",
              "      <td>Direct Labor</td>\n",
              "      <td>22.112222</td>\n",
              "      <td>0.654667</td>\n",
              "      <td>42.447033</td>\n",
              "      <td>7200</td>\n",
              "    </tr>\n",
              "    <tr>\n",
              "      <th>4</th>\n",
              "      <td>FCT</td>\n",
              "      <td>ALENDRONATE SDZ 70MG 4FCT MY</td>\n",
              "      <td>Oth Equ_Buildg Costs</td>\n",
              "      <td>39.299474</td>\n",
              "      <td>0.259368</td>\n",
              "      <td>66.469066</td>\n",
              "      <td>7200</td>\n",
              "    </tr>\n",
              "  </tbody>\n",
              "</table>\n",
              "</div>"
            ],
            "text/plain": [
              "  dosage_form_code                 material_name              cc2_name  \\\n",
              "0              FCT  ALENDRONATE SDZ 70MG 4FCT HK          Direct Labor   \n",
              "1              FCT  ALENDRONATE SDZ 70MG 4FCT HK  Oth Equ_Buildg Costs   \n",
              "2              FCT  ALENDRONATE SDZ 70MG 4FCT HK     Quality Assurance   \n",
              "3              FCT  ALENDRONATE SDZ 70MG 4FCT MY          Direct Labor   \n",
              "4              FCT  ALENDRONATE SDZ 70MG 4FCT MY  Oth Equ_Buildg Costs   \n",
              "\n",
              "         cost  quantity   unit_cost  costing_lot_size  \n",
              "0   79.271875  2.414312   40.444658              3000  \n",
              "1   48.414706  0.553471   60.906613              3000  \n",
              "2  531.230000  2.984000  178.026139              3000  \n",
              "3   22.112222  0.654667   42.447033              7200  \n",
              "4   39.299474  0.259368   66.469066              7200  "
            ]
          },
          "execution_count": 3,
          "metadata": {},
          "output_type": "execute_result"
        }
      ]
    },
    {
      "cell_type": "code",
      "metadata": {
        "id": "8aIZxfpFZoBv",
        "outputId": "91438bfb-93e1-4324-f7e9-64f24e95ddf7"
      },
      "source": [
        "df.dosage_form_code.value_counts()"
      ],
      "execution_count": null,
      "outputs": [
        {
          "data": {
            "text/plain": [
              "FCT    1025\n",
              "TAB     487\n",
              "HGC     138\n",
              "Name: dosage_form_code, dtype: int64"
            ]
          },
          "execution_count": 30,
          "metadata": {},
          "output_type": "execute_result"
        }
      ]
    },
    {
      "cell_type": "code",
      "metadata": {
        "id": "3kudUjxUZoBw",
        "outputId": "164542b2-1d42-4503-859b-046e039ebf6e"
      },
      "source": [
        "df.cc2_name.value_counts()"
      ],
      "execution_count": null,
      "outputs": [
        {
          "data": {
            "text/plain": [
              "Direct Labor            468\n",
              "Quality Assurance       468\n",
              "Oth Equ_Buildg Costs    468\n",
              "Ecology (ChemO_AI)      123\n",
              "Utilities (ChemO_AI)    123\n",
              "Name: cc2_name, dtype: int64"
            ]
          },
          "execution_count": 31,
          "metadata": {},
          "output_type": "execute_result"
        }
      ]
    },
    {
      "cell_type": "code",
      "metadata": {
        "id": "-_mx6p25ZoBw"
      },
      "source": [
        "import re"
      ],
      "execution_count": null,
      "outputs": []
    },
    {
      "cell_type": "code",
      "metadata": {
        "id": "vo1VQVTbZoBx"
      },
      "source": [
        "df1 =df.copy()"
      ],
      "execution_count": null,
      "outputs": []
    },
    {
      "cell_type": "code",
      "metadata": {
        "id": "IP2XHKaEZoBx"
      },
      "source": [
        "for i in range(len(df)):\n",
        "    #print(df.loc[i,'material_name'])\n",
        "    #print( re.findall('\\d+',df.loc[i,'material_name']))\n",
        "    l1 = re.findall('\\d+',df.loc[i,'material_name'])\n",
        "    df1.loc[i,'material_weight'] = l1[0]\n",
        "    df1.loc[i,'material_package_size'] = l1[1]"
      ],
      "execution_count": null,
      "outputs": []
    },
    {
      "cell_type": "code",
      "metadata": {
        "id": "INwbhWu-ZoBy",
        "outputId": "fa861e26-fa0a-4847-a0b3-7aa07e413a3b"
      },
      "source": [
        "df1.head()"
      ],
      "execution_count": null,
      "outputs": [
        {
          "data": {
            "text/html": [
              "<div>\n",
              "<style scoped>\n",
              "    .dataframe tbody tr th:only-of-type {\n",
              "        vertical-align: middle;\n",
              "    }\n",
              "\n",
              "    .dataframe tbody tr th {\n",
              "        vertical-align: top;\n",
              "    }\n",
              "\n",
              "    .dataframe thead th {\n",
              "        text-align: right;\n",
              "    }\n",
              "</style>\n",
              "<table border=\"1\" class=\"dataframe\">\n",
              "  <thead>\n",
              "    <tr style=\"text-align: right;\">\n",
              "      <th></th>\n",
              "      <th>dosage_form_code</th>\n",
              "      <th>material_name</th>\n",
              "      <th>cc2_name</th>\n",
              "      <th>cost</th>\n",
              "      <th>quantity</th>\n",
              "      <th>unit_cost</th>\n",
              "      <th>costing_lot_size</th>\n",
              "      <th>material_weight</th>\n",
              "      <th>material_package_size</th>\n",
              "    </tr>\n",
              "  </thead>\n",
              "  <tbody>\n",
              "    <tr>\n",
              "      <th>0</th>\n",
              "      <td>FCT</td>\n",
              "      <td>ALENDRONATE SDZ 70MG 4FCT HK</td>\n",
              "      <td>Direct Labor</td>\n",
              "      <td>79.271875</td>\n",
              "      <td>2.414312</td>\n",
              "      <td>40.444658</td>\n",
              "      <td>3000</td>\n",
              "      <td>70</td>\n",
              "      <td>4</td>\n",
              "    </tr>\n",
              "    <tr>\n",
              "      <th>1</th>\n",
              "      <td>FCT</td>\n",
              "      <td>ALENDRONATE SDZ 70MG 4FCT HK</td>\n",
              "      <td>Oth Equ_Buildg Costs</td>\n",
              "      <td>48.414706</td>\n",
              "      <td>0.553471</td>\n",
              "      <td>60.906613</td>\n",
              "      <td>3000</td>\n",
              "      <td>70</td>\n",
              "      <td>4</td>\n",
              "    </tr>\n",
              "    <tr>\n",
              "      <th>2</th>\n",
              "      <td>FCT</td>\n",
              "      <td>ALENDRONATE SDZ 70MG 4FCT HK</td>\n",
              "      <td>Quality Assurance</td>\n",
              "      <td>531.230000</td>\n",
              "      <td>2.984000</td>\n",
              "      <td>178.026139</td>\n",
              "      <td>3000</td>\n",
              "      <td>70</td>\n",
              "      <td>4</td>\n",
              "    </tr>\n",
              "    <tr>\n",
              "      <th>3</th>\n",
              "      <td>FCT</td>\n",
              "      <td>ALENDRONATE SDZ 70MG 4FCT MY</td>\n",
              "      <td>Direct Labor</td>\n",
              "      <td>22.112222</td>\n",
              "      <td>0.654667</td>\n",
              "      <td>42.447033</td>\n",
              "      <td>7200</td>\n",
              "      <td>70</td>\n",
              "      <td>4</td>\n",
              "    </tr>\n",
              "    <tr>\n",
              "      <th>4</th>\n",
              "      <td>FCT</td>\n",
              "      <td>ALENDRONATE SDZ 70MG 4FCT MY</td>\n",
              "      <td>Oth Equ_Buildg Costs</td>\n",
              "      <td>39.299474</td>\n",
              "      <td>0.259368</td>\n",
              "      <td>66.469066</td>\n",
              "      <td>7200</td>\n",
              "      <td>70</td>\n",
              "      <td>4</td>\n",
              "    </tr>\n",
              "  </tbody>\n",
              "</table>\n",
              "</div>"
            ],
            "text/plain": [
              "  dosage_form_code                 material_name              cc2_name  \\\n",
              "0              FCT  ALENDRONATE SDZ 70MG 4FCT HK          Direct Labor   \n",
              "1              FCT  ALENDRONATE SDZ 70MG 4FCT HK  Oth Equ_Buildg Costs   \n",
              "2              FCT  ALENDRONATE SDZ 70MG 4FCT HK     Quality Assurance   \n",
              "3              FCT  ALENDRONATE SDZ 70MG 4FCT MY          Direct Labor   \n",
              "4              FCT  ALENDRONATE SDZ 70MG 4FCT MY  Oth Equ_Buildg Costs   \n",
              "\n",
              "         cost  quantity   unit_cost  costing_lot_size material_weight  \\\n",
              "0   79.271875  2.414312   40.444658              3000              70   \n",
              "1   48.414706  0.553471   60.906613              3000              70   \n",
              "2  531.230000  2.984000  178.026139              3000              70   \n",
              "3   22.112222  0.654667   42.447033              7200              70   \n",
              "4   39.299474  0.259368   66.469066              7200              70   \n",
              "\n",
              "  material_package_size  \n",
              "0                     4  \n",
              "1                     4  \n",
              "2                     4  \n",
              "3                     4  \n",
              "4                     4  "
            ]
          },
          "execution_count": 7,
          "metadata": {},
          "output_type": "execute_result"
        }
      ]
    },
    {
      "cell_type": "code",
      "metadata": {
        "id": "L0mJue_ZZoBz",
        "outputId": "bdcb88cc-f92d-4b03-ca86-e54b9ab7b368"
      },
      "source": [
        "df1.columns"
      ],
      "execution_count": null,
      "outputs": [
        {
          "data": {
            "text/plain": [
              "Index(['dosage_form_code', 'material_name', 'cc2_name', 'cost', 'quantity',\n",
              "       'unit_cost', 'costing_lot_size', 'material_weight',\n",
              "       'material_package_size'],\n",
              "      dtype='object')"
            ]
          },
          "execution_count": 8,
          "metadata": {},
          "output_type": "execute_result"
        }
      ]
    },
    {
      "cell_type": "code",
      "metadata": {
        "id": "dKUKTo2wZoB0",
        "outputId": "0a7127af-0f82-4ecb-bd75-cafd8d49ce44"
      },
      "source": [
        "df1.info()"
      ],
      "execution_count": null,
      "outputs": [
        {
          "name": "stdout",
          "output_type": "stream",
          "text": [
            "<class 'pandas.core.frame.DataFrame'>\n",
            "RangeIndex: 1650 entries, 0 to 1649\n",
            "Data columns (total 9 columns):\n",
            " #   Column                 Non-Null Count  Dtype  \n",
            "---  ------                 --------------  -----  \n",
            " 0   dosage_form_code       1650 non-null   object \n",
            " 1   material_name          1650 non-null   object \n",
            " 2   cc2_name               1650 non-null   object \n",
            " 3   cost                   1650 non-null   float64\n",
            " 4   quantity               1650 non-null   float64\n",
            " 5   unit_cost              1650 non-null   float64\n",
            " 6   costing_lot_size       1650 non-null   int64  \n",
            " 7   material_weight        1650 non-null   object \n",
            " 8   material_package_size  1650 non-null   object \n",
            "dtypes: float64(3), int64(1), object(5)\n",
            "memory usage: 116.1+ KB\n"
          ]
        }
      ]
    },
    {
      "cell_type": "code",
      "metadata": {
        "id": "zBM-SupTZoB0"
      },
      "source": [
        "df1[\"material_weight\"] = pd.to_numeric(df1[\"material_weight\"])\n",
        "df1[\"material_package_size\"] = pd.to_numeric(df1[\"material_package_size\"])"
      ],
      "execution_count": null,
      "outputs": []
    },
    {
      "cell_type": "code",
      "metadata": {
        "id": "O-T77sz8ZoB1",
        "outputId": "d6180b32-998c-4ee9-d3c9-c41a5a2a3dc8"
      },
      "source": [
        "df1['dosage_form_code'].value_counts()"
      ],
      "execution_count": null,
      "outputs": [
        {
          "data": {
            "text/plain": [
              "FCT    1025\n",
              "TAB     487\n",
              "HGC     138\n",
              "Name: dosage_form_code, dtype: int64"
            ]
          },
          "execution_count": 11,
          "metadata": {},
          "output_type": "execute_result"
        }
      ]
    },
    {
      "cell_type": "code",
      "metadata": {
        "id": "JsqmeXi8ZoB1",
        "outputId": "c877f45f-5e7d-430e-9a76-ca706e310d3e"
      },
      "source": [
        "df1['cc2_name'].value_counts()"
      ],
      "execution_count": null,
      "outputs": [
        {
          "data": {
            "text/plain": [
              "Direct Labor            468\n",
              "Quality Assurance       468\n",
              "Oth Equ_Buildg Costs    468\n",
              "Ecology (ChemO_AI)      123\n",
              "Utilities (ChemO_AI)    123\n",
              "Name: cc2_name, dtype: int64"
            ]
          },
          "execution_count": 12,
          "metadata": {},
          "output_type": "execute_result"
        }
      ]
    },
    {
      "cell_type": "code",
      "metadata": {
        "id": "4RVxtbXiZoB1",
        "outputId": "c588425c-0146-42e5-8742-ef619460a7aa"
      },
      "source": [
        "df.describe()"
      ],
      "execution_count": null,
      "outputs": [
        {
          "data": {
            "text/html": [
              "<div>\n",
              "<style scoped>\n",
              "    .dataframe tbody tr th:only-of-type {\n",
              "        vertical-align: middle;\n",
              "    }\n",
              "\n",
              "    .dataframe tbody tr th {\n",
              "        vertical-align: top;\n",
              "    }\n",
              "\n",
              "    .dataframe thead th {\n",
              "        text-align: right;\n",
              "    }\n",
              "</style>\n",
              "<table border=\"1\" class=\"dataframe\">\n",
              "  <thead>\n",
              "    <tr style=\"text-align: right;\">\n",
              "      <th></th>\n",
              "      <th>cost</th>\n",
              "      <th>quantity</th>\n",
              "      <th>unit_cost</th>\n",
              "      <th>costing_lot_size</th>\n",
              "    </tr>\n",
              "  </thead>\n",
              "  <tbody>\n",
              "    <tr>\n",
              "      <th>count</th>\n",
              "      <td>1650.000000</td>\n",
              "      <td>1650.000000</td>\n",
              "      <td>1650.000000</td>\n",
              "      <td>1.650000e+03</td>\n",
              "    </tr>\n",
              "    <tr>\n",
              "      <th>mean</th>\n",
              "      <td>405.201485</td>\n",
              "      <td>49.432948</td>\n",
              "      <td>76.874147</td>\n",
              "      <td>5.781539e+04</td>\n",
              "    </tr>\n",
              "    <tr>\n",
              "      <th>std</th>\n",
              "      <td>666.587480</td>\n",
              "      <td>192.011251</td>\n",
              "      <td>61.069737</td>\n",
              "      <td>2.555335e+05</td>\n",
              "    </tr>\n",
              "    <tr>\n",
              "      <th>min</th>\n",
              "      <td>0.020000</td>\n",
              "      <td>0.022000</td>\n",
              "      <td>0.909091</td>\n",
              "      <td>1.000000e+02</td>\n",
              "    </tr>\n",
              "    <tr>\n",
              "      <th>25%</th>\n",
              "      <td>50.704667</td>\n",
              "      <td>1.311212</td>\n",
              "      <td>41.168255</td>\n",
              "      <td>3.000000e+03</td>\n",
              "    </tr>\n",
              "    <tr>\n",
              "      <th>50%</th>\n",
              "      <td>141.141208</td>\n",
              "      <td>2.984750</td>\n",
              "      <td>54.212580</td>\n",
              "      <td>8.000000e+03</td>\n",
              "    </tr>\n",
              "    <tr>\n",
              "      <th>75%</th>\n",
              "      <td>468.244500</td>\n",
              "      <td>7.112750</td>\n",
              "      <td>137.409373</td>\n",
              "      <td>2.600000e+04</td>\n",
              "    </tr>\n",
              "    <tr>\n",
              "      <th>max</th>\n",
              "      <td>7654.410000</td>\n",
              "      <td>2901.122667</td>\n",
              "      <td>178.038687</td>\n",
              "      <td>3.165000e+06</td>\n",
              "    </tr>\n",
              "  </tbody>\n",
              "</table>\n",
              "</div>"
            ],
            "text/plain": [
              "              cost     quantity    unit_cost  costing_lot_size\n",
              "count  1650.000000  1650.000000  1650.000000      1.650000e+03\n",
              "mean    405.201485    49.432948    76.874147      5.781539e+04\n",
              "std     666.587480   192.011251    61.069737      2.555335e+05\n",
              "min       0.020000     0.022000     0.909091      1.000000e+02\n",
              "25%      50.704667     1.311212    41.168255      3.000000e+03\n",
              "50%     141.141208     2.984750    54.212580      8.000000e+03\n",
              "75%     468.244500     7.112750   137.409373      2.600000e+04\n",
              "max    7654.410000  2901.122667   178.038687      3.165000e+06"
            ]
          },
          "execution_count": 33,
          "metadata": {},
          "output_type": "execute_result"
        }
      ]
    },
    {
      "cell_type": "markdown",
      "metadata": {
        "id": "0lbcrlPdZoB2"
      },
      "source": [
        "# EDA"
      ]
    },
    {
      "cell_type": "code",
      "metadata": {
        "id": "yVUXaZ_GZoB3"
      },
      "source": [
        "import matplotlib.pyplot as plt\n",
        "%matplotlib inline\n",
        "import seaborn as sns\n",
        "# For Preprocessing\n",
        "from sklearn.preprocessing import LabelEncoder, OneHotEncoder, StandardScaler"
      ],
      "execution_count": null,
      "outputs": []
    },
    {
      "cell_type": "code",
      "metadata": {
        "id": "eTB_BP_aZoB4",
        "outputId": "501f4613-ed7f-4615-9b5c-e1f680f05eb3"
      },
      "source": [
        "print('Data Shape:', df1.shape)"
      ],
      "execution_count": null,
      "outputs": [
        {
          "name": "stdout",
          "output_type": "stream",
          "text": [
            "Data Shape: (1650, 9)\n"
          ]
        }
      ]
    },
    {
      "cell_type": "markdown",
      "metadata": {
        "id": "X5qQfc8wZoB4"
      },
      "source": [
        "What is the average cost of 'dosage_form_code'?"
      ]
    },
    {
      "cell_type": "code",
      "metadata": {
        "id": "RDHq9Vd_ZoB4",
        "outputId": "4ea20ef6-e0b3-401f-bd5d-efeb6b212d9a"
      },
      "source": [
        "data2 = pd.DataFrame(df1.groupby(['dosage_form_code'], as_index = False)['cost'].mean())\n",
        "plt.figure(figsize = [6, 4])\n",
        "sns.barplot(x = 'dosage_form_code', y = 'cost', data = data2, linewidth = 2.5)\n",
        "plt.xlabel('Dosage', size = 14)\n",
        "plt.ylabel('Cost', size = 14)\n",
        "plt.title('Dosage vs Cost', size = 16)\n",
        "plt.show()"
      ],
      "execution_count": null,
      "outputs": [
        {
          "data": {
            "image/png": "[encoded data removed]",
            "text/plain": [
              "<Figure size 432x288 with 1 Axes>"
            ]
          },
          "metadata": {
            "needs_background": "light"
          },
          "output_type": "display_data"
        }
      ]
    },
    {
      "cell_type": "markdown",
      "metadata": {
        "id": "ZVi2DoUHZoB5"
      },
      "source": [
        "\n",
        "What is the average cost of 'cc2_name'?"
      ]
    },
    {
      "cell_type": "code",
      "metadata": {
        "id": "MdM-11ceZoB5",
        "outputId": "d308c6dc-6a82-4db1-f53b-8b9613ff99ce"
      },
      "source": [
        "data2 = pd.DataFrame(df1.groupby(['cc2_name'], as_index = False)['cost'].mean())\n",
        "plt.figure(figsize = [6, 4])\n",
        "sns.barplot(x = 'cc2_name', y = 'cost', data = data2, linewidth = 2.5)\n",
        "plt.xlabel('cc2_name', size = 14)\n",
        "plt.ylabel('Cost', size = 14)\n",
        "plt.xticks(rotation=60)\n",
        "plt.title('cc2_name vs Cost', size = 16)\n",
        "plt.show()"
      ],
      "execution_count": null,
      "outputs": [
        {
          "data": {
            "image/png": "[encoded data removed]",
            "text/plain": [
              "<Figure size 432x288 with 1 Axes>"
            ]
          },
          "metadata": {
            "needs_background": "light"
          },
          "output_type": "display_data"
        }
      ]
    },
    {
      "cell_type": "code",
      "metadata": {
        "id": "jWV_spP2ZoB6",
        "outputId": "42e743c4-0334-47a0-af6d-ef7f092f1377"
      },
      "source": [
        "sns.regplot(x=\"costing_lot_size\",y=\"cost\",data=df1)"
      ],
      "execution_count": null,
      "outputs": [
        {
          "data": {
            "text/plain": [
              "<matplotlib.axes._subplots.AxesSubplot at 0x244c68afa08>"
            ]
          },
          "execution_count": 17,
          "metadata": {},
          "output_type": "execute_result"
        },
        {
          "data": {
            "image/png": "[encoded data removed]",
            "text/plain": [
              "<Figure size 432x288 with 1 Axes>"
            ]
          },
          "metadata": {
            "needs_background": "light"
          },
          "output_type": "display_data"
        }
      ]
    },
    {
      "cell_type": "code",
      "metadata": {
        "id": "zS2sCR3GZoB6",
        "outputId": "60a515ae-7fcb-4c4d-caa1-4bc20b7f1e35"
      },
      "source": [
        "sns.regplot(x=\"material_package_size\",y=\"cost\",data=df1)"
      ],
      "execution_count": null,
      "outputs": [
        {
          "data": {
            "text/plain": [
              "<matplotlib.axes._subplots.AxesSubplot at 0x244c91a8c88>"
            ]
          },
          "execution_count": 18,
          "metadata": {},
          "output_type": "execute_result"
        },
        {
          "data": {
            "image/png": "[encoded data removed]",
            "text/plain": [
              "<Figure size 432x288 with 1 Axes>"
            ]
          },
          "metadata": {
            "needs_background": "light"
          },
          "output_type": "display_data"
        }
      ]
    },
    {
      "cell_type": "code",
      "metadata": {
        "id": "rviWqW4qZoB6",
        "outputId": "b58dcb95-d334-4dcb-b2f8-abc1b72acb60"
      },
      "source": [
        "sns.regplot(x=\"material_weight\",y=\"cost\",data=df1)"
      ],
      "execution_count": null,
      "outputs": [
        {
          "data": {
            "text/plain": [
              "<matplotlib.axes._subplots.AxesSubplot at 0x244c921ba48>"
            ]
          },
          "execution_count": 19,
          "metadata": {},
          "output_type": "execute_result"
        },
        {
          "data": {
            "image/png": "[encoded data removed]",
            "text/plain": [
              "<Figure size 432x288 with 1 Axes>"
            ]
          },
          "metadata": {
            "needs_background": "light"
          },
          "output_type": "display_data"
        }
      ]
    },
    {
      "cell_type": "code",
      "metadata": {
        "id": "d_viuXfRZoB6",
        "outputId": "ff41c5f4-79d8-47ec-c28f-1f3f1b60e4cc"
      },
      "source": [
        "sns.regplot(x=\"quantity\",y=\"cost\",data=df)"
      ],
      "execution_count": null,
      "outputs": [
        {
          "data": {
            "text/plain": [
              "<matplotlib.axes._subplots.AxesSubplot at 0x244c9294788>"
            ]
          },
          "execution_count": 20,
          "metadata": {},
          "output_type": "execute_result"
        },
        {
          "data": {
            "image/png": "[encoded data removed]",
            "text/plain": [
              "<Figure size 432x288 with 1 Axes>"
            ]
          },
          "metadata": {
            "needs_background": "light"
          },
          "output_type": "display_data"
        }
      ]
    },
    {
      "cell_type": "code",
      "metadata": {
        "id": "lLijmqX5ZoB7",
        "outputId": "5aafd6e9-8586-49d3-b6f1-33f0d5b3bdac"
      },
      "source": [
        "figure = plt.figure(figsize = [12, 6])\n",
        "sns.heatmap(df1.corr(), annot = True, cmap = 'viridis')\n",
        "plt.title('Correlation between Features', size = 14)\n",
        "plt.show()"
      ],
      "execution_count": null,
      "outputs": [
        {
          "data": {
            "image/png": "[encoded data removed]",
            "text/plain": [
              "<Figure size 864x432 with 2 Axes>"
            ]
          },
          "metadata": {
            "needs_background": "light"
          },
          "output_type": "display_data"
        }
      ]
    },
    {
      "cell_type": "markdown",
      "metadata": {
        "id": "aOq4z8M9ZoB7"
      },
      "source": [
        "Feature encoding"
      ]
    },
    {
      "cell_type": "code",
      "metadata": {
        "id": "JitLW-5AZoB7",
        "outputId": "5867cd59-7119-49c7-c665-05aa57a67907"
      },
      "source": [
        "df1 = pd.get_dummies(data = df1, columns = ['dosage_form_code','cc2_name'])\n",
        "print('Data Shape:', df1.shape)\n",
        "df1.head()"
      ],
      "execution_count": null,
      "outputs": [
        {
          "name": "stdout",
          "output_type": "stream",
          "text": [
            "Data Shape: (1650, 15)\n"
          ]
        },
        {
          "data": {
            "text/html": [
              "<div>\n",
              "<style scoped>\n",
              "    .dataframe tbody tr th:only-of-type {\n",
              "        vertical-align: middle;\n",
              "    }\n",
              "\n",
              "    .dataframe tbody tr th {\n",
              "        vertical-align: top;\n",
              "    }\n",
              "\n",
              "    .dataframe thead th {\n",
              "        text-align: right;\n",
              "    }\n",
              "</style>\n",
              "<table border=\"1\" class=\"dataframe\">\n",
              "  <thead>\n",
              "    <tr style=\"text-align: right;\">\n",
              "      <th></th>\n",
              "      <th>material_name</th>\n",
              "      <th>cost</th>\n",
              "      <th>quantity</th>\n",
              "      <th>unit_cost</th>\n",
              "      <th>costing_lot_size</th>\n",
              "      <th>material_weight</th>\n",
              "      <th>material_package_size</th>\n",
              "      <th>dosage_form_code_FCT</th>\n",
              "      <th>dosage_form_code_HGC</th>\n",
              "      <th>dosage_form_code_TAB</th>\n",
              "      <th>cc2_name_Direct Labor</th>\n",
              "      <th>cc2_name_Ecology (ChemO_AI)</th>\n",
              "      <th>cc2_name_Oth Equ_Buildg Costs</th>\n",
              "      <th>cc2_name_Quality Assurance</th>\n",
              "      <th>cc2_name_Utilities (ChemO_AI)</th>\n",
              "    </tr>\n",
              "  </thead>\n",
              "  <tbody>\n",
              "    <tr>\n",
              "      <th>0</th>\n",
              "      <td>ALENDRONATE SDZ 70MG 4FCT HK</td>\n",
              "      <td>79.271875</td>\n",
              "      <td>2.414312</td>\n",
              "      <td>40.444658</td>\n",
              "      <td>3000</td>\n",
              "      <td>70</td>\n",
              "      <td>4</td>\n",
              "      <td>1</td>\n",
              "      <td>0</td>\n",
              "      <td>0</td>\n",
              "      <td>1</td>\n",
              "      <td>0</td>\n",
              "      <td>0</td>\n",
              "      <td>0</td>\n",
              "      <td>0</td>\n",
              "    </tr>\n",
              "    <tr>\n",
              "      <th>1</th>\n",
              "      <td>ALENDRONATE SDZ 70MG 4FCT HK</td>\n",
              "      <td>48.414706</td>\n",
              "      <td>0.553471</td>\n",
              "      <td>60.906613</td>\n",
              "      <td>3000</td>\n",
              "      <td>70</td>\n",
              "      <td>4</td>\n",
              "      <td>1</td>\n",
              "      <td>0</td>\n",
              "      <td>0</td>\n",
              "      <td>0</td>\n",
              "      <td>0</td>\n",
              "      <td>1</td>\n",
              "      <td>0</td>\n",
              "      <td>0</td>\n",
              "    </tr>\n",
              "    <tr>\n",
              "      <th>2</th>\n",
              "      <td>ALENDRONATE SDZ 70MG 4FCT HK</td>\n",
              "      <td>531.230000</td>\n",
              "      <td>2.984000</td>\n",
              "      <td>178.026139</td>\n",
              "      <td>3000</td>\n",
              "      <td>70</td>\n",
              "      <td>4</td>\n",
              "      <td>1</td>\n",
              "      <td>0</td>\n",
              "      <td>0</td>\n",
              "      <td>0</td>\n",
              "      <td>0</td>\n",
              "      <td>0</td>\n",
              "      <td>1</td>\n",
              "      <td>0</td>\n",
              "    </tr>\n",
              "    <tr>\n",
              "      <th>3</th>\n",
              "      <td>ALENDRONATE SDZ 70MG 4FCT MY</td>\n",
              "      <td>22.112222</td>\n",
              "      <td>0.654667</td>\n",
              "      <td>42.447033</td>\n",
              "      <td>7200</td>\n",
              "      <td>70</td>\n",
              "      <td>4</td>\n",
              "      <td>1</td>\n",
              "      <td>0</td>\n",
              "      <td>0</td>\n",
              "      <td>1</td>\n",
              "      <td>0</td>\n",
              "      <td>0</td>\n",
              "      <td>0</td>\n",
              "      <td>0</td>\n",
              "    </tr>\n",
              "    <tr>\n",
              "      <th>4</th>\n",
              "      <td>ALENDRONATE SDZ 70MG 4FCT MY</td>\n",
              "      <td>39.299474</td>\n",
              "      <td>0.259368</td>\n",
              "      <td>66.469066</td>\n",
              "      <td>7200</td>\n",
              "      <td>70</td>\n",
              "      <td>4</td>\n",
              "      <td>1</td>\n",
              "      <td>0</td>\n",
              "      <td>0</td>\n",
              "      <td>0</td>\n",
              "      <td>0</td>\n",
              "      <td>1</td>\n",
              "      <td>0</td>\n",
              "      <td>0</td>\n",
              "    </tr>\n",
              "  </tbody>\n",
              "</table>\n",
              "</div>"
            ],
            "text/plain": [
              "                  material_name        cost  quantity   unit_cost  \\\n",
              "0  ALENDRONATE SDZ 70MG 4FCT HK   79.271875  2.414312   40.444658   \n",
              "1  ALENDRONATE SDZ 70MG 4FCT HK   48.414706  0.553471   60.906613   \n",
              "2  ALENDRONATE SDZ 70MG 4FCT HK  531.230000  2.984000  178.026139   \n",
              "3  ALENDRONATE SDZ 70MG 4FCT MY   22.112222  0.654667   42.447033   \n",
              "4  ALENDRONATE SDZ 70MG 4FCT MY   39.299474  0.259368   66.469066   \n",
              "\n",
              "   costing_lot_size  material_weight  material_package_size  \\\n",
              "0              3000               70                      4   \n",
              "1              3000               70                      4   \n",
              "2              3000               70                      4   \n",
              "3              7200               70                      4   \n",
              "4              7200               70                      4   \n",
              "\n",
              "   dosage_form_code_FCT  dosage_form_code_HGC  dosage_form_code_TAB  \\\n",
              "0                     1                     0                     0   \n",
              "1                     1                     0                     0   \n",
              "2                     1                     0                     0   \n",
              "3                     1                     0                     0   \n",
              "4                     1                     0                     0   \n",
              "\n",
              "   cc2_name_Direct Labor  cc2_name_Ecology (ChemO_AI)  \\\n",
              "0                      1                            0   \n",
              "1                      0                            0   \n",
              "2                      0                            0   \n",
              "3                      1                            0   \n",
              "4                      0                            0   \n",
              "\n",
              "   cc2_name_Oth Equ_Buildg Costs  cc2_name_Quality Assurance  \\\n",
              "0                              0                           0   \n",
              "1                              1                           0   \n",
              "2                              0                           1   \n",
              "3                              0                           0   \n",
              "4                              1                           0   \n",
              "\n",
              "   cc2_name_Utilities (ChemO_AI)  \n",
              "0                              0  \n",
              "1                              0  \n",
              "2                              0  \n",
              "3                              0  \n",
              "4                              0  "
            ]
          },
          "execution_count": 22,
          "metadata": {},
          "output_type": "execute_result"
        }
      ]
    },
    {
      "cell_type": "code",
      "metadata": {
        "scrolled": true,
        "id": "T5oldIWhZoB7",
        "outputId": "5f6ad751-8ae5-4a28-ca10-912e4705cbd9"
      },
      "source": [
        "figure = plt.figure(figsize = [12, 6])\n",
        "sns.heatmap(df1.corr(), annot = True, cmap = 'viridis')\n",
        "plt.title('Correlation between Features', size = 14)\n",
        "plt.show()"
      ],
      "execution_count": null,
      "outputs": [
        {
          "data": {
            "image/png": "[encoded data removed]",
            "text/plain": [
              "<Figure size 864x432 with 2 Axes>"
            ]
          },
          "metadata": {
            "needs_background": "light"
          },
          "output_type": "display_data"
        }
      ]
    },
    {
      "cell_type": "code",
      "metadata": {
        "id": "VsU8nsSrZoB8",
        "outputId": "e2b08ed0-28c7-4b71-9d60-a12064a42149"
      },
      "source": [
        "df1.head()"
      ],
      "execution_count": null,
      "outputs": [
        {
          "data": {
            "text/html": [
              "<div>\n",
              "<style scoped>\n",
              "    .dataframe tbody tr th:only-of-type {\n",
              "        vertical-align: middle;\n",
              "    }\n",
              "\n",
              "    .dataframe tbody tr th {\n",
              "        vertical-align: top;\n",
              "    }\n",
              "\n",
              "    .dataframe thead th {\n",
              "        text-align: right;\n",
              "    }\n",
              "</style>\n",
              "<table border=\"1\" class=\"dataframe\">\n",
              "  <thead>\n",
              "    <tr style=\"text-align: right;\">\n",
              "      <th></th>\n",
              "      <th>material_name</th>\n",
              "      <th>cost</th>\n",
              "      <th>quantity</th>\n",
              "      <th>unit_cost</th>\n",
              "      <th>costing_lot_size</th>\n",
              "      <th>material_weight</th>\n",
              "      <th>material_package_size</th>\n",
              "      <th>dosage_form_code_FCT</th>\n",
              "      <th>dosage_form_code_HGC</th>\n",
              "      <th>dosage_form_code_TAB</th>\n",
              "      <th>cc2_name_Direct Labor</th>\n",
              "      <th>cc2_name_Ecology (ChemO_AI)</th>\n",
              "      <th>cc2_name_Oth Equ_Buildg Costs</th>\n",
              "      <th>cc2_name_Quality Assurance</th>\n",
              "      <th>cc2_name_Utilities (ChemO_AI)</th>\n",
              "    </tr>\n",
              "  </thead>\n",
              "  <tbody>\n",
              "    <tr>\n",
              "      <th>0</th>\n",
              "      <td>ALENDRONATE SDZ 70MG 4FCT HK</td>\n",
              "      <td>79.271875</td>\n",
              "      <td>2.414312</td>\n",
              "      <td>40.444658</td>\n",
              "      <td>3000</td>\n",
              "      <td>70</td>\n",
              "      <td>4</td>\n",
              "      <td>1</td>\n",
              "      <td>0</td>\n",
              "      <td>0</td>\n",
              "      <td>1</td>\n",
              "      <td>0</td>\n",
              "      <td>0</td>\n",
              "      <td>0</td>\n",
              "      <td>0</td>\n",
              "    </tr>\n",
              "    <tr>\n",
              "      <th>1</th>\n",
              "      <td>ALENDRONATE SDZ 70MG 4FCT HK</td>\n",
              "      <td>48.414706</td>\n",
              "      <td>0.553471</td>\n",
              "      <td>60.906613</td>\n",
              "      <td>3000</td>\n",
              "      <td>70</td>\n",
              "      <td>4</td>\n",
              "      <td>1</td>\n",
              "      <td>0</td>\n",
              "      <td>0</td>\n",
              "      <td>0</td>\n",
              "      <td>0</td>\n",
              "      <td>1</td>\n",
              "      <td>0</td>\n",
              "      <td>0</td>\n",
              "    </tr>\n",
              "    <tr>\n",
              "      <th>2</th>\n",
              "      <td>ALENDRONATE SDZ 70MG 4FCT HK</td>\n",
              "      <td>531.230000</td>\n",
              "      <td>2.984000</td>\n",
              "      <td>178.026139</td>\n",
              "      <td>3000</td>\n",
              "      <td>70</td>\n",
              "      <td>4</td>\n",
              "      <td>1</td>\n",
              "      <td>0</td>\n",
              "      <td>0</td>\n",
              "      <td>0</td>\n",
              "      <td>0</td>\n",
              "      <td>0</td>\n",
              "      <td>1</td>\n",
              "      <td>0</td>\n",
              "    </tr>\n",
              "    <tr>\n",
              "      <th>3</th>\n",
              "      <td>ALENDRONATE SDZ 70MG 4FCT MY</td>\n",
              "      <td>22.112222</td>\n",
              "      <td>0.654667</td>\n",
              "      <td>42.447033</td>\n",
              "      <td>7200</td>\n",
              "      <td>70</td>\n",
              "      <td>4</td>\n",
              "      <td>1</td>\n",
              "      <td>0</td>\n",
              "      <td>0</td>\n",
              "      <td>1</td>\n",
              "      <td>0</td>\n",
              "      <td>0</td>\n",
              "      <td>0</td>\n",
              "      <td>0</td>\n",
              "    </tr>\n",
              "    <tr>\n",
              "      <th>4</th>\n",
              "      <td>ALENDRONATE SDZ 70MG 4FCT MY</td>\n",
              "      <td>39.299474</td>\n",
              "      <td>0.259368</td>\n",
              "      <td>66.469066</td>\n",
              "      <td>7200</td>\n",
              "      <td>70</td>\n",
              "      <td>4</td>\n",
              "      <td>1</td>\n",
              "      <td>0</td>\n",
              "      <td>0</td>\n",
              "      <td>0</td>\n",
              "      <td>0</td>\n",
              "      <td>1</td>\n",
              "      <td>0</td>\n",
              "      <td>0</td>\n",
              "    </tr>\n",
              "  </tbody>\n",
              "</table>\n",
              "</div>"
            ],
            "text/plain": [
              "                  material_name        cost  quantity   unit_cost  \\\n",
              "0  ALENDRONATE SDZ 70MG 4FCT HK   79.271875  2.414312   40.444658   \n",
              "1  ALENDRONATE SDZ 70MG 4FCT HK   48.414706  0.553471   60.906613   \n",
              "2  ALENDRONATE SDZ 70MG 4FCT HK  531.230000  2.984000  178.026139   \n",
              "3  ALENDRONATE SDZ 70MG 4FCT MY   22.112222  0.654667   42.447033   \n",
              "4  ALENDRONATE SDZ 70MG 4FCT MY   39.299474  0.259368   66.469066   \n",
              "\n",
              "   costing_lot_size  material_weight  material_package_size  \\\n",
              "0              3000               70                      4   \n",
              "1              3000               70                      4   \n",
              "2              3000               70                      4   \n",
              "3              7200               70                      4   \n",
              "4              7200               70                      4   \n",
              "\n",
              "   dosage_form_code_FCT  dosage_form_code_HGC  dosage_form_code_TAB  \\\n",
              "0                     1                     0                     0   \n",
              "1                     1                     0                     0   \n",
              "2                     1                     0                     0   \n",
              "3                     1                     0                     0   \n",
              "4                     1                     0                     0   \n",
              "\n",
              "   cc2_name_Direct Labor  cc2_name_Ecology (ChemO_AI)  \\\n",
              "0                      1                            0   \n",
              "1                      0                            0   \n",
              "2                      0                            0   \n",
              "3                      1                            0   \n",
              "4                      0                            0   \n",
              "\n",
              "   cc2_name_Oth Equ_Buildg Costs  cc2_name_Quality Assurance  \\\n",
              "0                              0                           0   \n",
              "1                              1                           0   \n",
              "2                              0                           1   \n",
              "3                              0                           0   \n",
              "4                              1                           0   \n",
              "\n",
              "   cc2_name_Utilities (ChemO_AI)  \n",
              "0                              0  \n",
              "1                              0  \n",
              "2                              0  \n",
              "3                              0  \n",
              "4                              0  "
            ]
          },
          "execution_count": 24,
          "metadata": {},
          "output_type": "execute_result"
        }
      ]
    },
    {
      "cell_type": "markdown",
      "metadata": {
        "id": "eMj9cs3QZoB8"
      },
      "source": [
        "# Modeling"
      ]
    },
    {
      "cell_type": "code",
      "metadata": {
        "id": "Ba_qXgrxZoB8"
      },
      "source": [
        "X = df1.drop(['material_name','cost','unit_cost'], axis = 1)\n",
        "y = df1['cost']"
      ],
      "execution_count": null,
      "outputs": []
    },
    {
      "cell_type": "code",
      "metadata": {
        "id": "t0CfxmHzZoB8",
        "outputId": "07e0c4ac-6970-4b62-eaba-20bb14ee61cc"
      },
      "source": [
        "print('X Shape:', X.shape)\n",
        "print('y Shape:', y.shape)"
      ],
      "execution_count": null,
      "outputs": [
        {
          "name": "stdout",
          "output_type": "stream",
          "text": [
            "X Shape: (1650, 12)\n",
            "y Shape: (1650,)\n"
          ]
        }
      ]
    },
    {
      "cell_type": "code",
      "metadata": {
        "id": "MWGzb0yxZoB8"
      },
      "source": [
        "from sklearn.feature_selection import SelectFromModel\n",
        "# For metrics evaluation\n",
        "from sklearn.metrics import mean_squared_error, r2_score\n",
        "# For Data Modeling and Evaluation\n",
        "from sklearn.model_selection import train_test_split\n",
        "from sklearn.linear_model import LinearRegression, Ridge, Lasso\n",
        "from sklearn.ensemble import RandomForestRegressor"
      ],
      "execution_count": null,
      "outputs": []
    },
    {
      "cell_type": "markdown",
      "metadata": {
        "id": "NQSCGL0AZoB8"
      },
      "source": [
        "# Feature Selection"
      ]
    },
    {
      "cell_type": "markdown",
      "metadata": {
        "id": "rsUVFkFQZoB9"
      },
      "source": [
        "Feature Selection using Random Forest"
      ]
    },
    {
      "cell_type": "code",
      "metadata": {
        "id": "NnPubwCOZoB9",
        "outputId": "1a4c7bb6-c6f2-4da4-ed4d-a9c5f6eb72ab"
      },
      "source": [
        "sel = SelectFromModel(RandomForestRegressor(n_estimators = 100))\n",
        "sel.fit(X_train, y_train)\n",
        "selected_feat= X_train.columns[(sel.get_support())]\n",
        "print('Total Features Selected are', len(selected_feat))\n",
        "print('Features:', selected_feat)"
      ],
      "execution_count": null,
      "outputs": [
        {
          "ename": "NameError",
          "evalue": "name 'X_train' is not defined",
          "output_type": "error",
          "traceback": [
            "\u001b[1;31m---------------------------------------------------------------------------\u001b[0m",
            "\u001b[1;31mNameError\u001b[0m                                 Traceback (most recent call last)",
            "\u001b[1;32m<ipython-input-28-6289f778947a>\u001b[0m in \u001b[0;36m<module>\u001b[1;34m\u001b[0m\n\u001b[0;32m      1\u001b[0m \u001b[0msel\u001b[0m \u001b[1;33m=\u001b[0m \u001b[0mSelectFromModel\u001b[0m\u001b[1;33m(\u001b[0m\u001b[0mRandomForestRegressor\u001b[0m\u001b[1;33m(\u001b[0m\u001b[0mn_estimators\u001b[0m \u001b[1;33m=\u001b[0m \u001b[1;36m100\u001b[0m\u001b[1;33m)\u001b[0m\u001b[1;33m)\u001b[0m\u001b[1;33m\u001b[0m\u001b[1;33m\u001b[0m\u001b[0m\n\u001b[1;32m----> 2\u001b[1;33m \u001b[0msel\u001b[0m\u001b[1;33m.\u001b[0m\u001b[0mfit\u001b[0m\u001b[1;33m(\u001b[0m\u001b[0mX_train\u001b[0m\u001b[1;33m,\u001b[0m \u001b[0my_train\u001b[0m\u001b[1;33m)\u001b[0m\u001b[1;33m\u001b[0m\u001b[1;33m\u001b[0m\u001b[0m\n\u001b[0m\u001b[0;32m      3\u001b[0m \u001b[0mselected_feat\u001b[0m\u001b[1;33m=\u001b[0m \u001b[0mX_train\u001b[0m\u001b[1;33m.\u001b[0m\u001b[0mcolumns\u001b[0m\u001b[1;33m[\u001b[0m\u001b[1;33m(\u001b[0m\u001b[0msel\u001b[0m\u001b[1;33m.\u001b[0m\u001b[0mget_support\u001b[0m\u001b[1;33m(\u001b[0m\u001b[1;33m)\u001b[0m\u001b[1;33m)\u001b[0m\u001b[1;33m]\u001b[0m\u001b[1;33m\u001b[0m\u001b[1;33m\u001b[0m\u001b[0m\n\u001b[0;32m      4\u001b[0m \u001b[0mprint\u001b[0m\u001b[1;33m(\u001b[0m\u001b[1;34m'Total Features Selected are'\u001b[0m\u001b[1;33m,\u001b[0m \u001b[0mlen\u001b[0m\u001b[1;33m(\u001b[0m\u001b[0mselected_feat\u001b[0m\u001b[1;33m)\u001b[0m\u001b[1;33m)\u001b[0m\u001b[1;33m\u001b[0m\u001b[1;33m\u001b[0m\u001b[0m\n\u001b[0;32m      5\u001b[0m \u001b[0mprint\u001b[0m\u001b[1;33m(\u001b[0m\u001b[1;34m'Features:'\u001b[0m\u001b[1;33m,\u001b[0m \u001b[0mselected_feat\u001b[0m\u001b[1;33m)\u001b[0m\u001b[1;33m\u001b[0m\u001b[1;33m\u001b[0m\u001b[0m\n",
            "\u001b[1;31mNameError\u001b[0m: name 'X_train' is not defined"
          ]
        }
      ]
    },
    {
      "cell_type": "markdown",
      "metadata": {
        "id": "lZaZ2MZpZoB9"
      },
      "source": [
        "Pearson Correlation"
      ]
    },
    {
      "cell_type": "code",
      "metadata": {
        "id": "yaqk3erSZoB9"
      },
      "source": [
        "ls = ['quantity', 'costing_lot_size', 'material_weight', 'material_package_size']\n",
        "correlation = pd.DataFrame(np.abs([stats.pearsonr(df1[i], df1['cost']) for i in ls]), index = ls, columns = ['Pearson Coef.', 'p-value'])\n",
        "correlation.transpose()"
      ],
      "execution_count": null,
      "outputs": []
    },
    {
      "cell_type": "markdown",
      "metadata": {
        "id": "6Fg90GyVZoB9"
      },
      "source": [
        "Observation : It comes out only potential feature in numerical predictor is 'material_package_size' as showing ~10% of dependency on target feature with p-value ~ 0."
      ]
    },
    {
      "cell_type": "markdown",
      "metadata": {
        "id": "1aJ0sYI_ZoB-"
      },
      "source": [
        "#ANOVA (Analysis of Variance)\n",
        "----ANOVA is used when there is one categorical feature and one numerical feature"
      ]
    },
    {
      "cell_type": "markdown",
      "metadata": {
        "id": "KQrIRufbZoB-"
      },
      "source": [
        "ANOVA on \"dosage_form_code\""
      ]
    },
    {
      "cell_type": "code",
      "metadata": {
        "id": "MOKbthS_ZoB-"
      },
      "source": [
        "df.dosage_form_code.value_counts()"
      ],
      "execution_count": null,
      "outputs": []
    },
    {
      "cell_type": "code",
      "metadata": {
        "id": "Du8WoT3YZoB-"
      },
      "source": [
        "grouped_test = df[['dosage_form_code', 'cost']].groupby(['dosage_form_code'])\n",
        "F_score, p_value = stats.f_oneway(grouped_test.get_group('FCT')['cost'],\n",
        "                                  grouped_test.get_group('TAB')['cost'],\n",
        "                                  grouped_test.get_group('HGC')['cost'])\n",
        "print('F-Score:', F_score, 'p-value:', p_value)"
      ],
      "execution_count": null,
      "outputs": []
    },
    {
      "cell_type": "markdown",
      "metadata": {
        "id": "KTsuyQV6ZoB-"
      },
      "source": [
        "ANOVA on \"cc2_name\""
      ]
    },
    {
      "cell_type": "code",
      "metadata": {
        "id": "_8yYdj_QZoB-"
      },
      "source": [
        "df.cc2_name.value_counts()"
      ],
      "execution_count": null,
      "outputs": []
    },
    {
      "cell_type": "code",
      "metadata": {
        "id": "CxpHKH8vZoB-"
      },
      "source": [
        "grouped_test = df[['cc2_name', 'cost']].groupby(['cc2_name'])\n",
        "F_score, p_value = stats.f_oneway(grouped_test.get_group('Oth Equ_Buildg Costs')['cost'],\n",
        "                                  grouped_test.get_group('Direct Labor')['cost'],\n",
        "                                  grouped_test.get_group('Quality Assurance')['cost'],\n",
        "                                  grouped_test.get_group('Ecology (ChemO_AI)')['cost'],\n",
        "                                  grouped_test.get_group('Utilities (ChemO_AI)')['cost'])\n",
        "print('F-Score:', F_score, 'p-value:', p_value)"
      ],
      "execution_count": null,
      "outputs": []
    },
    {
      "cell_type": "markdown",
      "metadata": {
        "id": "pKKsvmwpZoB_"
      },
      "source": [
        "Observation:\n",
        "Using ANOVA we found that 'dosage_form_code' and 'cc2_name' features are really good predictors for 'cost' feature as their F-score is high and p-value is low."
      ]
    },
    {
      "cell_type": "markdown",
      "metadata": {
        "id": "yzgWlGIFZoB_"
      },
      "source": [
        "# Model Building"
      ]
    },
    {
      "cell_type": "code",
      "metadata": {
        "id": "P95Q8w7wZoB_"
      },
      "source": [
        "X = df1.drop(['material_name','cost','unit_cost'], axis = 1)\n",
        "y = df1['cost']"
      ],
      "execution_count": null,
      "outputs": []
    },
    {
      "cell_type": "code",
      "metadata": {
        "id": "LafuI7NpZoB_"
      },
      "source": [
        "print('X Shape:', X.shape)\n",
        "print('y Shape:', y.shape)"
      ],
      "execution_count": null,
      "outputs": []
    },
    {
      "cell_type": "code",
      "metadata": {
        "id": "yfuR19fHZoB_"
      },
      "source": [
        "X_train, X_test, y_train, y_test = train_test_split(X, y, test_size = 0.2, random_state = 42)"
      ],
      "execution_count": null,
      "outputs": []
    },
    {
      "cell_type": "code",
      "metadata": {
        "id": "5RX8e6PZZoB_"
      },
      "source": [
        "def PlotScore(y_train, y_train_pred, y_test, y_test_pred):\n",
        "  '''\n",
        "  Plot visual of acutal and predicted for train & test data\n",
        "  y_train: actual values of y train\n",
        "  y_train_pred: predicted values of y_train\n",
        "  y_test: actual values of y_test\n",
        "  y_test_pred: predicted values of y_test\n",
        "  '''\n",
        "  plt.figure(figsize = [13.66, 6])\n",
        "  plt.subplot(1, 2, 1)\n",
        "  sns.lineplot(x = y_train, y = y_train_pred, marker = 'o')\n",
        "  plt.xlabel('Actual')\n",
        "  plt.ylabel('Predicted')\n",
        "  plt.title('For Train Data')\n",
        "\n",
        "  plt.subplot(1, 2, 2)\n",
        "  sns.lineplot(x = y_test, y = y_test_pred, marker = 'o')\n",
        "  plt.xlabel('Actual')\n",
        "  plt.ylabel('Predicted')\n",
        "  plt.title('For Test Data')\n",
        "  plt.show()"
      ],
      "execution_count": null,
      "outputs": []
    },
    {
      "cell_type": "markdown",
      "metadata": {
        "id": "uLkrq4l5ZoB_"
      },
      "source": [
        "Linear Regression"
      ]
    },
    {
      "cell_type": "code",
      "metadata": {
        "id": "G7hOILWJZoB_"
      },
      "source": [
        "model = LinearRegression()\n",
        "\n",
        "model.fit(X_train, y_train)\n",
        "\n",
        "y_train_pred = np.abs(model.predict(X_train).astype('int'))\n",
        "y_test_pred = np.abs(model.predict(X_test).astype('int'))\n",
        "\n",
        "print('Acutal Values:', y_test[0:5])\n",
        "print('Predicted Values:', y_test_pred[0:5])\n",
        "# Estimating RMSE on Train & Test Data\n",
        "print('RMSE (Train Data):', np.round(np.sqrt(mean_squared_error(y_true = y_test, y_pred = y_test_pred)), decimals = 2))\n",
        "print('RMSE (Test Data):', np.round(np.sqrt(mean_squared_error(y_true = y_test, y_pred = y_test_pred)), decimals = 2))\n",
        "# Estimating R-Squared on Train & Test Data\n",
        "print('R-Squared (Train Data):', np.round(model.score(X_train, y_train), decimals = 2)*100, '%')\n",
        "print('R-Squared (Test Data):', np.round(model.score(X_test, y_test), decimals = 2)*100, '%')\n",
        "# Plotting Acutal vs Predicted values\n",
        "PlotScore(y_train, y_train_pred, y_test, y_test_pred)"
      ],
      "execution_count": null,
      "outputs": []
    },
    {
      "cell_type": "markdown",
      "metadata": {
        "id": "4YrVWy8NZoB_"
      },
      "source": [
        "RandomForest Regressor"
      ]
    },
    {
      "cell_type": "code",
      "metadata": {
        "id": "VawGszwUZoCA"
      },
      "source": [
        "randomforest = RandomForestRegressor(random_state = 42)\n",
        "randomforest.fit(X_train, y_train)\n",
        "y_train_pred = np.abs(randomforest.predict(X_train).astype('int'))\n",
        "y_test_pred = np.abs(randomforest.predict(X_test).astype('int'))\n",
        "\n",
        "print('Acutal Values:', y_test[0:5])\n",
        "print('Predicted Values:', y_test_pred[0:5])\n",
        "# Estimating RMSE on Train & Test Data\n",
        "print('RMSE (Train Data):', np.round(np.sqrt(mean_squared_error(y_true = y_test, y_pred = y_test_pred)), decimals = 2))\n",
        "print('RMSE (Test Data):', np.round(np.sqrt(mean_squared_error(y_true = y_test, y_pred = y_test_pred)), decimals = 2))\n",
        "# Estimating R-Squared on Train & Test Data\n",
        "print('R-Squared (Train Data):', np.round(randomforest.score(X_train, y_train), decimals = 2)*100, '%')\n",
        "print('R-Squared (Test Data):', np.round(randomforest.score(X_test, y_test), decimals = 2)*100, '%')\n",
        "# Plotting Acutal vs Predicted values\n",
        "PlotScore(y_train, y_train_pred, y_test, y_test_pred)"
      ],
      "execution_count": null,
      "outputs": []
    },
    {
      "cell_type": "markdown",
      "metadata": {
        "id": "KUwIVnHxZoCA"
      },
      "source": [
        "\n",
        "GradientBoostingRegressor"
      ]
    },
    {
      "cell_type": "code",
      "metadata": {
        "id": "7apJ1ZrLZoCA"
      },
      "source": [
        "from sklearn.ensemble import GradientBoostingRegressor"
      ],
      "execution_count": null,
      "outputs": []
    },
    {
      "cell_type": "code",
      "metadata": {
        "id": "9q0bHgQsZoCA"
      },
      "source": [
        "gbr = GradientBoostingRegressor(random_state=0)\n",
        "gbr.fit(X_train, y_train)\n",
        "\n",
        "y_train_pred = np.abs(gbr.predict(X_train).astype('int'))\n",
        "y_test_pred = np.abs(gbr.predict(X_test).astype('int'))\n",
        "\n",
        "print('Acutal Values:', y_test[0:5])\n",
        "print('Predicted Values:', y_test_pred[0:5])\n",
        "# Estimating RMSE on Train & Test Data\n",
        "print('RMSE (Train Data):', np.round(np.sqrt(mean_squared_error(y_true = y_test, y_pred = y_test_pred)), decimals = 2))\n",
        "print('RMSE (Test Data):', np.round(np.sqrt(mean_squared_error(y_true = y_test, y_pred = y_test_pred)), decimals = 2))\n",
        "# Estimating R-Squared on Train & Test Data\n",
        "print('R-Squared (Train Data):', np.round(gbr.score(X_train, y_train), decimals = 2)*100, '%')\n",
        "print('R-Squared (Test Data):', np.round(gbr.score(X_test, y_test), decimals = 2)*100, '%')\n",
        "# Plotting Acutal vs Predicted values\n",
        "PlotScore(y_train, y_train_pred, y_test, y_test_pred)"
      ],
      "execution_count": null,
      "outputs": []
    },
    {
      "cell_type": "code",
      "metadata": {
        "id": "4DYvklN_ZoCA"
      },
      "source": [
        "#prediction"
      ],
      "execution_count": null,
      "outputs": []
    },
    {
      "cell_type": "code",
      "metadata": {
        "scrolled": true,
        "id": "Ft1uORmyZoCA"
      },
      "source": [
        "X_test.head()"
      ],
      "execution_count": null,
      "outputs": []
    },
    {
      "cell_type": "code",
      "metadata": {
        "id": "DvUOQaVeZoCB"
      },
      "source": [
        "y_test.head()"
      ],
      "execution_count": null,
      "outputs": []
    },
    {
      "cell_type": "code",
      "metadata": {
        "id": "CIN8_5MjZoCB"
      },
      "source": [
        "input = [[10,50000,100,30,1,0,0,0,0,1,0,0]] #  tulip 100mg 30 fct , 50000 , 40 mg 30 fct"
      ],
      "execution_count": null,
      "outputs": []
    },
    {
      "cell_type": "code",
      "metadata": {
        "id": "xleSGwfoZoCB"
      },
      "source": [
        "pred = randomforest.predict(input)\n",
        "pred"
      ],
      "execution_count": null,
      "outputs": []
    },
    {
      "cell_type": "markdown",
      "metadata": {
        "id": "H4AG1mECZoCB"
      },
      "source": [
        "TULIP 10MG 30FCT BY"
      ]
    },
    {
      "cell_type": "code",
      "metadata": {
        "id": "7U7opGQKZoCB"
      },
      "source": [
        "X.head(2)"
      ],
      "execution_count": null,
      "outputs": []
    },
    {
      "cell_type": "code",
      "metadata": {
        "id": "q7GrEoffZoCB"
      },
      "source": [
        "tulip_1 = [[0.99752,6000,10,30,1,0,0,1,0,0,0,0]]\n",
        "tulip_pred1 = randomforest.predict(tulip_1)\n",
        "tulip_pred1"
      ],
      "execution_count": null,
      "outputs": []
    },
    {
      "cell_type": "code",
      "metadata": {
        "id": "56YUsbaGZoCB"
      },
      "source": [
        "tulip_2 = [[37.647,6000,10,30,1,0,0,0,1,0,0,0]]\n",
        "tulip_pred2 = randomforest.predict(tulip_2)\n",
        "tulip_pred2"
      ],
      "execution_count": null,
      "outputs": []
    },
    {
      "cell_type": "code",
      "metadata": {
        "id": "9JNWzGVrZoCB"
      },
      "source": [
        "tulip_3 = [[0.470807692,6000,10,30,1,0,0,0,0,1,0,0]]\n",
        "tulip_pred3 = randomforest.predict(tulip_3)\n",
        "tulip_pred3"
      ],
      "execution_count": null,
      "outputs": []
    },
    {
      "cell_type": "code",
      "metadata": {
        "id": "lzLB_ZI4ZoCB"
      },
      "source": [
        "tulip_4 = [[1.6985,6000,10,30,1,0,0,0,0,0,1,0]]\n",
        "tulip_pred4 = randomforest.predict(tulip_4)\n",
        "tulip_pred4"
      ],
      "execution_count": null,
      "outputs": []
    },
    {
      "cell_type": "code",
      "metadata": {
        "id": "99pIiJKwZoCB"
      },
      "source": [
        "tulip_5 = [[51.86033333,6000,10,30,1,0,0,0,0,0,0,1]]\n",
        "tulip_pred5 = randomforest.predict(tulip_5)\n",
        "tulip_pred5"
      ],
      "execution_count": null,
      "outputs": []
    },
    {
      "cell_type": "markdown",
      "metadata": {
        "id": "viX2ILW5ZoCC"
      },
      "source": [
        "Unknown datapoints  : Tulip 40 mg 90 fct , lot size 10000, quantity 10"
      ]
    },
    {
      "cell_type": "code",
      "metadata": {
        "id": "0TnhM7XDZoCC"
      },
      "source": [
        "tulip_new_1 = [[10,10000,40,90,1,0,0,1,0,0,0,0]]\n",
        "tulip_new_pred1 = randomforest.predict(tulip_new_1)\n",
        "tulip_new_pred1"
      ],
      "execution_count": null,
      "outputs": []
    },
    {
      "cell_type": "code",
      "metadata": {
        "id": "opgDHzVrZoCC"
      },
      "source": [
        "tulip_new_2 = [[10,10000,40,90,1,0,0,0,1,0,0,0]]\n",
        "tulip_new_pred2 = randomforest.predict(tulip_new_2)\n",
        "tulip_new_pred2"
      ],
      "execution_count": null,
      "outputs": []
    },
    {
      "cell_type": "code",
      "metadata": {
        "id": "_ta6w48YZoCC"
      },
      "source": [
        "tulip_new_3 = [[10,10000,40,90,1,0,0,0,0,1,0,0]]\n",
        "tulip_new_pred3 = randomforest.predict(tulip_new_3)\n",
        "tulip_new_pred3"
      ],
      "execution_count": null,
      "outputs": []
    },
    {
      "cell_type": "code",
      "metadata": {
        "id": "WVlRQVpAZoCC"
      },
      "source": [
        "tulip_new_4 = [[10,10000,40,90,1,0,0,0,0,0,1,0]]\n",
        "tulip_new_pred4 = randomforest.predict(tulip_new_4)\n",
        "tulip_new_pred4"
      ],
      "execution_count": null,
      "outputs": []
    },
    {
      "cell_type": "code",
      "metadata": {
        "id": "zlZu-ZYYZoCC"
      },
      "source": [
        "tulip_new_5 = [[10,10000,40,90,1,0,0,0,0,0,0,1]]\n",
        "tulip_new_pred5 = randomforest.predict(tulip_new_5)\n",
        "tulip_new_pred5"
      ],
      "execution_count": null,
      "outputs": []
    },
    {
      "cell_type": "code",
      "metadata": {
        "id": "OviMT0OpZoCC"
      },
      "source": [
        "total_sum = tulip_new_pred1+tulip_new_pred2+tulip_new_pred3+tulip_new_pred4+tulip_new_pred5\n",
        "total_sum"
      ],
      "execution_count": null,
      "outputs": []
    },
    {
      "cell_type": "markdown",
      "metadata": {
        "id": "KZQVLvb0ZoCC"
      },
      "source": [
        "Unknown datapoints  : Tulip 20 mg 40 fct , lot size 20000, quantity 5"
      ]
    },
    {
      "cell_type": "code",
      "metadata": {
        "id": "gTkihfTYZoCD"
      },
      "source": [
        "tulip_new_1 = [[5,20000,20,40,1,0,0,1,0,0,0,0]]\n",
        "tulip_new_pred1 = randomforest.predict(tulip_new_1)\n",
        "tulip_new_pred1"
      ],
      "execution_count": null,
      "outputs": []
    },
    {
      "cell_type": "code",
      "metadata": {
        "id": "LomwFDW4ZoCD"
      },
      "source": [
        "tulip_new_2 = [[5,20000,20,40,1,0,0,0,1,0,0,0]]\n",
        "tulip_new_pred2 = randomforest.predict(tulip_new_2)\n",
        "tulip_new_pred2"
      ],
      "execution_count": null,
      "outputs": []
    },
    {
      "cell_type": "code",
      "metadata": {
        "id": "YVOXgSpDZoCD"
      },
      "source": [
        "tulip_new_3 = [[5,20000,20,40,1,0,0,0,0,1,0,0]]\n",
        "tulip_new_pred3 = randomforest.predict(tulip_new_3)\n",
        "tulip_new_pred3"
      ],
      "execution_count": null,
      "outputs": []
    },
    {
      "cell_type": "code",
      "metadata": {
        "id": "tvTVgcM1ZoCD"
      },
      "source": [
        "tulip_new_4 = [[5,20000,20,40,1,0,0,0,0,0,1,0]]\n",
        "tulip_new_pred4 = randomforest.predict(tulip_new_4)\n",
        "tulip_new_pred4"
      ],
      "execution_count": null,
      "outputs": []
    },
    {
      "cell_type": "code",
      "metadata": {
        "id": "AK6fpCYzZoCD"
      },
      "source": [
        "tulip_new_5 = [[5,20000,20,40,1,0,0,0,0,0,0,1]]\n",
        "tulip_new_pred5 = randomforest.predict(tulip_new_5)\n",
        "tulip_new_pred5"
      ],
      "execution_count": null,
      "outputs": []
    },
    {
      "cell_type": "code",
      "metadata": {
        "id": "xSZt3YuLZoCD"
      },
      "source": [
        "total_sum_1 = tulip_new_pred1+tulip_new_pred2+tulip_new_pred3+tulip_new_pred4+tulip_new_pred5\n",
        "total_sum_1"
      ],
      "execution_count": null,
      "outputs": []
    },
    {
      "cell_type": "code",
      "metadata": {
        "id": "ngmETQB2ZoCD"
      },
      "source": [
        ""
      ],
      "execution_count": null,
      "outputs": []
    }
  ]
}